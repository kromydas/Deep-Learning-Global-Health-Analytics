{
 "cells": [
  {
   "cell_type": "markdown",
   "metadata": {},
   "source": [
    "# Create Satellite Image Tiles \n",
    "\n",
    "This notebook is used to crop image tiles from a specified satellite image stack at DHS locations that are contained wiythin the image stack. The expected input is a single image stack that covers an entire AOI or a region of an AOI. When acquiring satellite imagery it is not practyical to download a single file for an entire AOI, but multiple files can later be stiched together into a single GeoTiff file and this notebook can be executed just once to certate all the image tiles, or alternatievley, this notebook can be execute multiple times, once for each non-overlapping image stack, where each execution crops image tiles for provided image stack.\n",
    "\n",
    "\n",
    "## Input\n",
    "The expected input is a single image stack that covers an entire AOI or a region of an AOI.\n",
    "<pre style=\"font-family: monospace;\">\n",
    "./GIS-Image-Stack-Processing\n",
    "    /AOI/\n",
    "        PK/\n",
    "            Image_Tiles/\n",
    "                    :\n",
    "            Satellite_Stack/\n",
    "                    <span style=\"color: blue;\">PK_aoi_stack_3band.tif</span>  RGB example\n",
    "                    </pre>\n",
    "\n",
    "## Output \n",
    "The output satellite tiles (for each DHS location) stored in `Satellite_Tiles` within the hierarchy below. \n",
    "<pre style=\"font-family: monospace;\">\n",
    "./GIS-Image-Stack-Processing\n",
    "    /AOI/\n",
    "        PK/\n",
    "            Image_Tiles/\n",
    "                    :\n",
    "            Satellite_Tiles/\n",
    "                PK_1_C-1_30m.tif\n",
    "                PK_2_C-2_30m.tif\n",
    "                    :\n",
    "                PK_560_C-580_30m.tif\n",
    "                </pre>"
   ]
  },
  {
   "cell_type": "code",
   "execution_count": 22,
   "metadata": {},
   "outputs": [],
   "source": [
    "import os\n",
    "import sys\n",
    "import shutil\n",
    "import glob as glb\n",
    "from osgeo import gdal\n",
    "from dataclasses import dataclass\n",
    "\n",
    "cache_dir = 'project_utils/__pycache__'\n",
    "if os.path.exists(cache_dir):\n",
    "    shutil.rmtree(cache_dir)\n",
    "    \n",
    "sys.path.append('../GIS-Image-Stack-Processing') \n",
    "\n",
    "# Import module that contains several convenience functions (e.g., gdal wrappers)\n",
    "from project_utils import *\n",
    "\n",
    "#----------------------------------------------------------------------------------------\n",
    "# *** IMPORTANT: SYSTEM PATH TO SET ***\n",
    "#----------------------------------------------------------------------------------------\n",
    "# The following path is required, as it contains GDAL binaries used for several \n",
    "# pre-processing functions. The pathname corresponds to the Conda virtual environment \n",
    "# created for this project (e.g., \"py39-pt\").\n",
    "#\n",
    "# Note: GDAL was adopted as a benchmark to compare the original GIS data produced by \n",
    "# another team. However, similar functionality could be implemented using the Rasterio \n",
    "# Python package. If Rasterio is used, it would eliminate the need for GDAL binaries \n",
    "# and this system path specification.\n",
    "#----------------------------------------------------------------------------------------\n",
    "\n",
    "os.environ['PATH'] += ':/Users/billk/miniforge3/envs/py39-pt/bin/' "
   ]
  },
  {
   "cell_type": "markdown",
   "metadata": {},
   "source": [
    "## 1 Specify the Country Code for the AOI"
   ]
  },
  {
   "cell_type": "code",
   "execution_count": 2,
   "metadata": {},
   "outputs": [],
   "source": [
    "#-------------------------------------------------\n",
    "# REQUIRED CONFIGURATIONS HERE\n",
    "#-------------------------------------------------\n",
    "country_code = 'PK'   # Set the country code\n",
    "#-------------------------------------------------"
   ]
  },
  {
   "cell_type": "code",
   "execution_count": 3,
   "metadata": {},
   "outputs": [
    {
     "name": "stdout",
     "output_type": "stream",
     "text": [
      "../GIS-Image-Stack-Processing/DHS/PK_2017-18_DHS/PKGE71FL/PKGE71FL.shp\n"
     ]
    }
   ],
   "source": [
    "shapefile_path = aoi_configurations[country_code]['shapefile']\n",
    "\n",
    "# The new base path that you want to prepend\n",
    "base_path = \"../GIS-Image-Stack-Processing/\"\n",
    "\n",
    "# Prepend the base path to the shapefile path\n",
    "shapefile_path = os.path.join(base_path, shapefile_path)\n",
    "\n",
    "crs_lat = aoi_configurations[country_code]['crs_lat']\n",
    "crs_lon = aoi_configurations[country_code]['crs_lon']\n",
    "\n",
    "#------------------------------------------------------------------------------------------------------------\n",
    "# A Lambert-Azmuthal Equal Area (LAEA) projectoin CRS is used that requires the definition of a CRS \n",
    "# orgign (crs_lat, crs_lon). Each AOI defined in the aoi_configurations.py module contains these coordinates.\n",
    "#------------------------------------------------------------------------------------------------------------\n",
    "expected_crs = f'+proj=laea +lat_0={crs_lat} +lon_0={crs_lon} +x_0=0 +y_0=0 +datum=WGS84 +units=m +no_defs'\n",
    "\n",
    "case = country_code\n",
    "print(shapefile_path)"
   ]
  },
  {
   "cell_type": "code",
   "execution_count": 4,
   "metadata": {},
   "outputs": [
    {
     "name": "stdout",
     "output_type": "stream",
     "text": [
      "../GIS-Image-Stack-Processing/AOI/PK/Satellite_Stack/PK_aoi_stack_3band.tif\n"
     ]
    }
   ],
   "source": [
    "# Shape file fields\n",
    "cluster_field  = 'DHSCLUST'\n",
    "lat_field      = 'LATNUM'\n",
    "lon_field      = 'LONGNUM'\n",
    "\n",
    "# Set the resolution for programmatic file naming below\n",
    "res = 30\n",
    "\n",
    "expected_pixel_size  = (res, res)    # This should match the pixel size in the input rasters\n",
    "\n",
    "# Build a list of the raster (produced by: prep_geospatial_data.ipynb)\n",
    "aoi_image_stack_folder = f'../GIS-Image-Stack-Processing/AOI/{country_code}/Satellite_Stack/'\n",
    "\n",
    "# Assumes a single AOI image stack that covers the DHS survey locations.\n",
    "# aoi_image_stack_path = f'{aoi_image_stack_folder}{country_code}_aoi_stack_6band.tif'\n",
    "aoi_image_stack_path = f'{aoi_image_stack_folder}{country_code}_aoi_stack_3band.tif'\n",
    "\n",
    "image_tile_folder = f'../GIS-Image-Stack-Processing/AOI/{country_code}/Satellite_Tiles/'\n",
    "\n",
    "image_tile_suffix = f'{res}m'\n",
    "\n",
    "vrt_file_suffix = f'{res}m'\n",
    "\n",
    "print(aoi_image_stack_path)"
   ]
  },
  {
   "cell_type": "code",
   "execution_count": 5,
   "metadata": {
    "scrolled": true
   },
   "outputs": [
    {
     "name": "stdout",
     "output_type": "stream",
     "text": [
      "../GIS-Image-Stack-Processing/AOI/PK/Satellite_Stack/PK_aoi_stack_3band.tif\n",
      "\n",
      "\n",
      "../GIS-Image-Stack-Processing/AOI/PK/Satellite_Tiles/\n",
      "30m\n"
     ]
    }
   ],
   "source": [
    "print(aoi_image_stack_path)\n",
    "print('\\n')\n",
    "print(image_tile_folder)\n",
    "print(vrt_file_suffix)"
   ]
  },
  {
   "cell_type": "code",
   "execution_count": 6,
   "metadata": {},
   "outputs": [],
   "source": [
    "# run_gdalinfo(f'../GIS-Image-Stack-Processing/AOI/{country_code}/Satellite_Stack/{country_code}_aoi_stack_6band.tif')"
   ]
  },
  {
   "cell_type": "markdown",
   "metadata": {},
   "source": [
    "## 2 Extract Cluster IDs and Associated GPS Coordinates"
   ]
  },
  {
   "cell_type": "code",
   "execution_count": 7,
   "metadata": {},
   "outputs": [
    {
     "name": "stdout",
     "output_type": "stream",
     "text": [
      "File exists.\n"
     ]
    }
   ],
   "source": [
    "if os.path.exists(shapefile_path):\n",
    "    print(\"File exists.\")\n",
    "else:\n",
    "    print(\"File does not exist.\")"
   ]
  },
  {
   "cell_type": "markdown",
   "metadata": {},
   "source": [
    "## 3 Load AOI Raster Data"
   ]
  },
  {
   "cell_type": "code",
   "execution_count": 8,
   "metadata": {},
   "outputs": [
    {
     "name": "stdout",
     "output_type": "stream",
     "text": [
      "../GIS-Image-Stack-Processing/AOI/PK/Satellite_Stack/PK_aoi_stack_3band.tif\n"
     ]
    }
   ],
   "source": [
    "print(aoi_image_stack_path)"
   ]
  },
  {
   "cell_type": "code",
   "execution_count": 9,
   "metadata": {},
   "outputs": [],
   "source": [
    "\n",
    "raster, crs_match, pixel_size_match = load_raster(aoi_image_stack_path, expected_crs, expected_pixel_size)\n",
    "result = {\n",
    "        'path': aoi_image_stack_path,\n",
    "        'raster': raster, \n",
    "        'crs_match': crs_match,\n",
    "        'pixel_size_match': pixel_size_match\n",
    "}"
   ]
  },
  {
   "cell_type": "markdown",
   "metadata": {},
   "source": [
    "## 4 Project the DHS GPS Locations to the Image Stack CRS "
   ]
  },
  {
   "cell_type": "markdown",
   "metadata": {},
   "source": [
    "Some DHS cluster IDs contain bogos coordinates and therefore such clusters should be excluded. "
   ]
  },
  {
   "cell_type": "code",
   "execution_count": 10,
   "metadata": {
    "scrolled": false
   },
   "outputs": [
    {
     "name": "stdout",
     "output_type": "stream",
     "text": [
      "Erroneous clusters detected:\n",
      "Cluster ID: 535, Latitude: 0.0, Longitude: 0.0\n"
     ]
    },
    {
     "name": "stderr",
     "output_type": "stream",
     "text": [
      "/Users/billk/dev/BMGF/Deep-Learning-Global-Health-Analytics/Satellite_Data/../GIS-Image-Stack-Processing/project_utils/gist_utils.py:796: SettingWithCopyWarning: \n",
      "A value is trying to be set on a copy of a slice from a DataFrame.\n",
      "Try using .loc[row_indexer,col_indexer] = value instead\n",
      "\n",
      "See the caveats in the documentation: https://pandas.pydata.org/pandas-docs/stable/user_guide/indexing.html#returning-a-view-versus-a-copy\n",
      "  cluster_data[cluster_field] = cluster_data[cluster_field].astype(float).astype(int)\n"
     ]
    }
   ],
   "source": [
    "cluster_data, erroneous_cluster_ids = extract_cluster_data(shapefile_path, cluster_field, lat_field, lon_field)"
   ]
  },
  {
   "cell_type": "code",
   "execution_count": 11,
   "metadata": {},
   "outputs": [
    {
     "name": "stdout",
     "output_type": "stream",
     "text": [
      "[535]\n"
     ]
    }
   ],
   "source": [
    "print(erroneous_cluster_ids)"
   ]
  },
  {
   "cell_type": "markdown",
   "metadata": {},
   "source": [
    "### Optional Data Inspection"
   ]
  },
  {
   "cell_type": "code",
   "execution_count": 12,
   "metadata": {},
   "outputs": [
    {
     "name": "stdout",
     "output_type": "stream",
     "text": [
      "(2.0, 35.89, 71.73)\n"
     ]
    }
   ],
   "source": [
    "# Print data for a specific cluster\n",
    "cluster_id = 1\n",
    "indices = [cluster_id]\n",
    "for index in indices:\n",
    "    # Using .iloc for positional access\n",
    "    row = cluster_data.iloc[index]\n",
    "    cluster_id, x, y = row[cluster_field], row[lat_field], row[lon_field]\n",
    "\n",
    "    print(f\"({cluster_id}, {x:.2f}, {y:.2f})\")"
   ]
  },
  {
   "cell_type": "code",
   "execution_count": 13,
   "metadata": {},
   "outputs": [
    {
     "name": "stdout",
     "output_type": "stream",
     "text": [
      "DHSCLUST\n",
      "LATNUM\n",
      "LONGNUM\n"
     ]
    }
   ],
   "source": [
    "# Print the first few elements of cluster_data to understand its structure\n",
    "for item in cluster_data[:10]:  # Adjust the slicing as necessary for large datasets\n",
    "    print(item)\n"
   ]
  },
  {
   "cell_type": "code",
   "execution_count": 14,
   "metadata": {
    "scrolled": false
   },
   "outputs": [
    {
     "name": "stdout",
     "output_type": "stream",
     "text": [
      "560\n"
     ]
    }
   ],
   "source": [
    "# Initialize a flag to check if all CRS matches and a list to collect mismatched CRS details\n",
    "all_crs_match = True\n",
    "mismatched_details = []\n",
    "\n",
    "if not result['crs_match']:\n",
    "    all_crs_match = False\n",
    "    # Collecting detailed information about the mismatch, including the file path and the actual CRS\n",
    "    mismatched_details.append(f\"Path: {result['path']}, Raster CRS: {result['raster'].crs}\")\n",
    "\n",
    "if all_crs_match:\n",
    "    \n",
    "    # Assuming cluster_data is a DataFrame returned from extract_cluster_data\n",
    "    cluster_data_tuples = list(cluster_data.to_records(index=False))\n",
    "\n",
    "    crs_coordinates = convert_cluster_coordinates(cluster_data_tuples, src_crs='EPSG:4326', dst_crs=expected_crs)\n",
    "    print(len(crs_coordinates))\n",
    "        \n",
    "else:\n",
    "    print(\"*** Error: CRS does not match.\")\n",
    "    for detail in mismatched_details:\n",
    "        print(detail)"
   ]
  },
  {
   "cell_type": "markdown",
   "metadata": {},
   "source": [
    "## 5 Find DHS Points that Fall within the Input Satellite Image Stack\n",
    "The input satellite image stack was created from multiple satellite granule "
   ]
  },
  {
   "cell_type": "code",
   "execution_count": 15,
   "metadata": {
    "scrolled": false
   },
   "outputs": [
    {
     "name": "stdout",
     "output_type": "stream",
     "text": [
      "Points w/in bounds: ../GIS-Image-Stack-Processing/AOI/PK/Satellite_Stack/PK_aoi_stack_3band.tif: 59\n",
      "\n",
      "All datasets have the same number of points.\n"
     ]
    }
   ],
   "source": [
    "all_pixel_match = result['pixel_size_match']\n",
    "\n",
    "# if all_pixel_match:\n",
    "if True:\n",
    "   \n",
    "    # Collect number of points in each dataset for comparison\n",
    "    number_of_points_per_dataset = []\n",
    "\n",
    "\n",
    "    raster = result['raster']\n",
    "        \n",
    "    points_within_raster = find_points_within_raster(raster, crs_coordinates, expected_crs)\n",
    "        \n",
    "    # Store the points within raster into the results dictionary for each raster\n",
    "    result['points_within_raster'] = points_within_raster\n",
    "    number_of_points_per_dataset.append(len(points_within_raster))\n",
    "    print(f\"Points w/in bounds: {result['path']}: {len(points_within_raster)}\\n\")\n",
    "\n",
    "    # Check if all datasets have the same number of points\n",
    "    if len(set(number_of_points_per_dataset)) == 1:\n",
    "        print(\"All datasets have the same number of points.\")\n",
    "    else:\n",
    "        print(\"Warning: Datasets have varying numbers of points. Here are the counts per dataset:\", number_of_points_per_dataset)\n",
    "\n",
    "else:\n",
    "    print(\"Pixel size match does not match for one or more rasters.\")\n"
   ]
  },
  {
   "cell_type": "markdown",
   "metadata": {},
   "source": [
    "## 6 Crop Image Tiles from AOI Image Stack\n",
    "Loop over each data type, stored in memory as a raster, and crop an image tile of the specified size for each of the survey points in the `points_within_raster list`. Additionally, build a VRT file that references the image tiles for each data type. The VRT facilitates loading a large number of image tiles in QGIS for visualization purposes."
   ]
  },
  {
   "cell_type": "code",
   "execution_count": 16,
   "metadata": {},
   "outputs": [],
   "source": [
    "def build_vrt(image_tile_folder, vrt_file):\n",
    "   \n",
    "    # Get a list of all .tif files in the directory\n",
    "    tif_files = glb.glob(os.path.join(image_tile_folder, \"*.tif\"))\n",
    "\n",
    "    # Create a new VRT dataset\n",
    "    vrt_options = gdal.BuildVRTOptions(VRTNodata=-999)\n",
    "    vrt = gdal.BuildVRT(vrt_file, tif_files, options=vrt_options)\n",
    "\n",
    "    # Check if the VRT dataset was created successfully\n",
    "    if vrt is None:\n",
    "        print(\"Failed to build VRT\")\n",
    "    else:\n",
    "        vrt.FlushCache()  # Write to disk\n",
    "        print(f\"VRT built successfully at {vrt_file}\")"
   ]
  },
  {
   "cell_type": "code",
   "execution_count": 17,
   "metadata": {},
   "outputs": [
    {
     "name": "stdout",
     "output_type": "stream",
     "text": [
      "../GIS-Image-Stack-Processing/AOI/PK/Satellite_Tiles/\n",
      "30m\n"
     ]
    }
   ],
   "source": [
    "print(image_tile_folder)\n",
    "print(image_tile_suffix)\n",
    "# print(result)"
   ]
  },
  {
   "cell_type": "code",
   "execution_count": 18,
   "metadata": {},
   "outputs": [
    {
     "name": "stdout",
     "output_type": "stream",
     "text": [
      "Crops are saved in ../GIS-Image-Stack-Processing/AOI/PK/Satellite_Tiles/\n"
     ]
    }
   ],
   "source": [
    "raster = result['raster']\n",
    "    \n",
    "aoi_name = f\"{country_code}\"\n",
    "    \n",
    "crop_raster_rasterio(raster, points_within_raster, aoi_name, image_tile_suffix, image_tile_folder, tile_size=224, debug=False)\n",
    "    "
   ]
  },
  {
   "cell_type": "code",
   "execution_count": 19,
   "metadata": {},
   "outputs": [
    {
     "name": "stdout",
     "output_type": "stream",
     "text": [
      "../GIS-Image-Stack-Processing/AOI/PK/PK_Satellite_Tiles_30m.vrt\n"
     ]
    }
   ],
   "source": [
    "# Construct the VRT filename\n",
    "vrt_file = f\"../GIS-Image-Stack-Processing/AOI/{country_code}/{country_code}_Satellite_Tiles_{vrt_file_suffix}.vrt\"\n",
    "print(vrt_file)\n"
   ]
  },
  {
   "cell_type": "code",
   "execution_count": 20,
   "metadata": {},
   "outputs": [
    {
     "name": "stdout",
     "output_type": "stream",
     "text": [
      "VRT built successfully at ../GIS-Image-Stack-Processing/AOI/PK/PK_Satellite_Tiles_30m.vrt\n"
     ]
    },
    {
     "name": "stderr",
     "output_type": "stream",
     "text": [
      "/Users/billk/miniforge3/envs/py39-pt-test/lib/python3.9/site-packages/osgeo/gdal.py:312: FutureWarning: Neither gdal.UseExceptions() nor gdal.DontUseExceptions() has been explicitly called. In GDAL 4.0, exceptions will be enabled by default.\n",
      "  warnings.warn(\n"
     ]
    }
   ],
   "source": [
    "build_vrt(image_tile_folder, vrt_file)"
   ]
  },
  {
   "cell_type": "code",
   "execution_count": 21,
   "metadata": {},
   "outputs": [
    {
     "name": "stdout",
     "output_type": "stream",
     "text": [
      "../GIS-Image-Stack-Processing/AOI/PK/PK_Satellite_Tiles_30m.vrt\n"
     ]
    }
   ],
   "source": [
    "print(vrt_file)"
   ]
  },
  {
   "cell_type": "code",
   "execution_count": null,
   "metadata": {},
   "outputs": [],
   "source": []
  }
 ],
 "metadata": {
  "kernelspec": {
   "display_name": "Python (py39-pt-test)",
   "language": "python",
   "name": "py39-pt-test"
  },
  "language_info": {
   "codemirror_mode": {
    "name": "ipython",
    "version": 3
   },
   "file_extension": ".py",
   "mimetype": "text/x-python",
   "name": "python",
   "nbconvert_exporter": "python",
   "pygments_lexer": "ipython3",
   "version": "3.9.20"
  }
 },
 "nbformat": 4,
 "nbformat_minor": 4
}
